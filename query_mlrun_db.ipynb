{
 "cells": [
  {
   "cell_type": "markdown",
   "metadata": {},
   "source": [
    "# Query MLRUN DB for chargebacks"
   ]
  },
  {
   "cell_type": "code",
   "execution_count": 8,
   "metadata": {},
   "outputs": [],
   "source": [
    "from mlrun import get_run_db, mlconf"
   ]
  },
  {
   "cell_type": "code",
   "execution_count": 9,
   "metadata": {},
   "outputs": [],
   "source": [
    "mlconf.dbpath = 'http://mlrun-api:8080'"
   ]
  },
  {
   "cell_type": "code",
   "execution_count": 10,
   "metadata": {},
   "outputs": [],
   "source": [
    "db = get_run_db().connect()"
   ]
  },
  {
   "cell_type": "code",
   "execution_count": 20,
   "metadata": {},
   "outputs": [],
   "source": [
    "# list all runs\n",
    "#runs = db.list_runs(name='marcelo-spark').show()\n",
    "runs = db.list_runs(project='lobproject')#.show()"
   ]
  },
  {
   "cell_type": "code",
   "execution_count": 21,
   "metadata": {},
   "outputs": [
    {
     "name": "stdout",
     "output_type": "stream",
     "text": [
      "[{'metadata': {'annotations': {}, 'iteration': 0, 'labels': {'host': 'jupyter-c6luqhyljd-mzpcs-b485d49fb-qjlcf', 'kind': 'dask', 'owner': 'marcelo'}, 'name': 'mydask-hndlr', 'project': 'lobproject', 'uid': '9b4a7017405c44ec8a65b005ecdaf053'}, 'spec': {'data_stores': [], 'function': 'lobproject/mydask:0f0b97256da0ce9ef93cebc3dbca4026e1f3472c', 'inputs': {}, 'log_level': 'info', 'output_path': '', 'outputs': [], 'parameters': {'x': 12}}, 'status': {'artifacts': [], 'last_update': '2020-02-19T18:43:26.073682+00:00', 'results': {'y': 14}, 'start_time': '2020-02-19T18:43:26.073676+00:00', 'state': 'completed'}}]\n"
     ]
    }
   ],
   "source": [
    "print(runs)"
   ]
  },
  {
   "cell_type": "code",
   "execution_count": 6,
   "metadata": {},
   "outputs": [
    {
     "data": {
      "text/plain": [
       "[{'kind': 'dask',\n",
       "  'metadata': {'name': 'test-dask',\n",
       "   'project': 'default',\n",
       "   'tag': 'latest',\n",
       "   'updated': 'Sat, 15 Feb 2020 19:49:54 GMT'},\n",
       "  'spec': {'args': [],\n",
       "   'build': {'commands': [], 'image': 'daskdev/dask'},\n",
       "   'command': '/User/mlrun_samples/function1.py',\n",
       "   'description': '',\n",
       "   'env': [{'name': 'V3IO_API',\n",
       "     'value': 'v3io-webapi.default-tenant.svc:8081'},\n",
       "    {'name': 'V3IO_USERNAME', 'value': 'marcelo'},\n",
       "    {'name': 'V3IO_ACCESS_KEY',\n",
       "     'value': 'e4d2c610-4059-4ed3-9727-e45b073b3869'}],\n",
       "   'image': 'daskdev/dask',\n",
       "   'image_pull_policy': 'Always',\n",
       "   'max_replicas': 2,\n",
       "   'min_replicas': 2,\n",
       "   'nthreads': 1,\n",
       "   'remote': True,\n",
       "   'replicas': 2,\n",
       "   'service_type': 'NodePort',\n",
       "   'volume_mounts': [{'mountPath': '/User', 'name': 'v3io'}],\n",
       "   'volumes': [{'flexVolume': {'driver': 'v3io/fuse',\n",
       "      'options': {'accessKey': 'e4d2c610-4059-4ed3-9727-e45b073b3869',\n",
       "       'container': 'users',\n",
       "       'subPath': '/marcelo'}},\n",
       "     'name': 'v3io'}]},\n",
       "  'status': {'build_pod': '', 'state': 'ready'}},\n",
       " {'kind': 'dask',\n",
       "  'metadata': {'hash': '9b1a4618a0dba35721b5d46407668198f277f0e7',\n",
       "   'name': 'test-dask',\n",
       "   'project': 'default',\n",
       "   'tag': 'latest',\n",
       "   'updated': 'Tue, 18 Feb 2020 17:07:59 GMT'},\n",
       "  'spec': {'args': [],\n",
       "   'build': {'commands': [], 'image': 'daskdev/dask:2.9.1'},\n",
       "   'command': '/User/mlrun_samples/function1.py',\n",
       "   'description': '',\n",
       "   'env': [{'name': 'V3IO_API',\n",
       "     'value': 'v3io-webapi.default-tenant.svc:8081'},\n",
       "    {'name': 'V3IO_USERNAME', 'value': 'marcelo'},\n",
       "    {'name': 'V3IO_ACCESS_KEY',\n",
       "     'value': 'e4d2c610-4059-4ed3-9727-e45b073b3869'}],\n",
       "   'image_pull_policy': 'Always',\n",
       "   'max_replicas': 2,\n",
       "   'min_replicas': 2,\n",
       "   'nthreads': 1,\n",
       "   'remote': True,\n",
       "   'replicas': 2,\n",
       "   'service_type': 'NodePort',\n",
       "   'volume_mounts': [{'mountPath': '/User', 'name': 'v3io'}],\n",
       "   'volumes': [{'flexVolume': {'driver': 'v3io/fuse',\n",
       "      'options': {'accessKey': 'e4d2c610-4059-4ed3-9727-e45b073b3869',\n",
       "       'container': 'users',\n",
       "       'subPath': '/marcelo'}},\n",
       "     'name': 'v3io'}]},\n",
       "  'status': {'state': 'ready'}}]"
      ]
     },
     "execution_count": 6,
     "metadata": {},
     "output_type": "execute_result"
    }
   ],
   "source": [
    "db.list_functions('test-dask')\n",
    "#myfn = db.get_function('my-spark-func',project='default')"
   ]
  },
  {
   "cell_type": "code",
   "execution_count": null,
   "metadata": {},
   "outputs": [],
   "source": [
    "# list all artifact for version \"latest\"\n",
    "db.list_artifacts('', tag='').show()"
   ]
  },
  {
   "cell_type": "code",
   "execution_count": 16,
   "metadata": {},
   "outputs": [
    {
     "name": "stdout",
     "output_type": "stream",
     "text": [
      "reading artifacts in  name/mask: ch tag: * ...\n"
     ]
    },
    {
     "data": {
      "text/html": [
       "<style> \n",
       ".dictlist {\n",
       "  background-color: #b3edff; \n",
       "  text-align: center; \n",
       "  margin: 4px; \n",
       "  border-radius: 3px; padding: 0px 3px 1px 3px; display: inline-block;}\n",
       ".artifact {\n",
       "  cursor: pointer; \n",
       "  background-color: #ffe6cc; \n",
       "  text-align: left; \n",
       "  margin: 4px; border-radius: 3px; padding: 0px 3px 1px 3px; display: inline-block;\n",
       "}\n",
       "div.block.hidden {\n",
       "  display: none;\n",
       "}\n",
       ".clickable {\n",
       "  cursor: pointer;\n",
       "}\n",
       ".ellipsis {\n",
       "  display: inline-block;\n",
       "  max-width: 60px;\n",
       "  white-space: nowrap;\n",
       "  overflow: hidden;\n",
       "  text-overflow: ellipsis;\n",
       "}\n",
       ".master-wrapper {\n",
       "  display: flex;\n",
       "  flex-flow: row nowrap;\n",
       "  justify-content: flex-start;\n",
       "  align-items: stretch;\n",
       "}\n",
       ".master-tbl {\n",
       "  flex: 3\n",
       "}\n",
       ".master-wrapper > div {\n",
       "  margin: 4px;\n",
       "  padding: 10px;\n",
       "}\n",
       "iframe.fileview {\n",
       "  border: 0 none;\n",
       "  height: 100%;\n",
       "  width: 100%;\n",
       "  white-space: pre-wrap;\n",
       "}\n",
       ".pane-header-title {\n",
       "  width: 80%;\n",
       "  font-weight: 500;\n",
       "}\n",
       ".pane-header {\n",
       "  line-height: 1;\n",
       "  background-color: #ffe6cc;\n",
       "  padding: 3px;\n",
       "}\n",
       ".pane-header .close {\n",
       "  font-size: 20px;\n",
       "  font-weight: 700;\n",
       "  float: right;\n",
       "  margin-top: -5px;\n",
       "}\n",
       ".master-wrapper .right-pane {\n",
       "  border: 1px inset silver;\n",
       "  width: 40%;\n",
       "  min-height: 300px;\n",
       "  flex: 3\n",
       "  min-width: 500px;\n",
       "}\n",
       ".master-wrapper * {\n",
       "  box-sizing: border-box;\n",
       "}\n",
       "</style><script>\n",
       "function copyToClipboard(fld) {\n",
       "    if (document.queryCommandSupported && document.queryCommandSupported('copy')) {\n",
       "        var textarea = document.createElement('textarea');\n",
       "        textarea.textContent = fld.innerHTML;\n",
       "        textarea.style.position = 'fixed';\n",
       "        document.body.appendChild(textarea);\n",
       "        textarea.select();\n",
       "\n",
       "        try {\n",
       "            return document.execCommand('copy'); // Security exception may be thrown by some browsers.\n",
       "        } catch (ex) {\n",
       "\n",
       "        } finally {\n",
       "            document.body.removeChild(textarea);\n",
       "        }\n",
       "    }\n",
       "}\n",
       "function expandPanel(el) {\n",
       "  const panelName = \"#\" + el.getAttribute('paneName');\n",
       "  console.log(el.title);\n",
       "\n",
       "  document.querySelector(panelName + \"-title\").innerHTML = el.title\n",
       "  iframe = document.querySelector(panelName + \"-body\");\n",
       "  \n",
       "  const tblcss = `<style> body { font-family: Arial, Helvetica, sans-serif;}\n",
       "    #csv { margin-bottom: 15px; }\n",
       "    #csv table { border-collapse: collapse;}\n",
       "    #csv table td { padding: 4px 8px; border: 1px solid silver;} </style>`;\n",
       "\n",
       "  function csvToHtmlTable(str) {\n",
       "    return '<div id=\"csv\"><table><tr><td>' +  str.replace(/[\\n\\r]+$/g, '').replace(/[\\n\\r]+/g, '</td></tr><tr><td>')\n",
       "      .replace(/,/g, '</td><td>') + '</td></tr></table></div>';\n",
       "  }\n",
       "  \n",
       "  function reqListener () {\n",
       "    if (el.title.endsWith(\".csv\")) {\n",
       "      iframe.setAttribute(\"srcdoc\", tblcss + csvToHtmlTable(this.responseText));\n",
       "    } else {\n",
       "      iframe.setAttribute(\"srcdoc\", this.responseText);\n",
       "    }  \n",
       "    console.log(this.responseText);\n",
       "  }\n",
       "\n",
       "  const oReq = new XMLHttpRequest();\n",
       "  oReq.addEventListener(\"load\", reqListener);\n",
       "  oReq.open(\"GET\", el.title);\n",
       "  oReq.send();\n",
       "  \n",
       "  \n",
       "  //iframe.src = el.title;\n",
       "  const resultPane = document.querySelector(panelName + \"-pane\");\n",
       "  if (resultPane.classList.contains(\"hidden\")) {\n",
       "    resultPane.classList.remove(\"hidden\");\n",
       "  }\n",
       "}\n",
       "function closePanel(el) {\n",
       "  const panelName = \"#\" + el.getAttribute('paneName')\n",
       "  const resultPane = document.querySelector(panelName + \"-pane\");\n",
       "  if (!resultPane.classList.contains(\"hidden\")) {\n",
       "    resultPane.classList.add(\"hidden\");\n",
       "  }\n",
       "}\n",
       "\n",
       "</script>\n",
       "<div class=\"master-wrapper\">\n",
       "  <div class=\"block master-tbl\"><div>\n",
       "<style scoped>\n",
       "    .dataframe tbody tr th:only-of-type {\n",
       "        vertical-align: middle;\n",
       "    }\n",
       "\n",
       "    .dataframe tbody tr th {\n",
       "        vertical-align: top;\n",
       "    }\n",
       "\n",
       "    .dataframe thead th {\n",
       "        text-align: right;\n",
       "    }\n",
       "</style>\n",
       "<table border=\"1\" class=\"dataframe\">\n",
       "  <thead>\n",
       "    <tr style=\"text-align: right;\">\n",
       "      <th>tree</th>\n",
       "      <th>key</th>\n",
       "      <th>kind</th>\n",
       "      <th>path</th>\n",
       "      <th>hash</th>\n",
       "      <th>viewer</th>\n",
       "      <th>updated</th>\n",
       "      <th>description</th>\n",
       "      <th>producer</th>\n",
       "      <th>sources</th>\n",
       "      <th>labels</th>\n",
       "    </tr>\n",
       "  </thead>\n",
       "  <tbody>\n",
       "    <tr>\n",
       "      <td><div class=\"ellipsis\" ondblclick=\"copyToClipboard(this)\" title=\"78f817de63ea44fbb4a97b7c4d4e2f38 (dbl click to copy)\">78f817de63ea44fbb4a97b7c4d4e2f38</div></td>\n",
       "      <td>chart.html</td>\n",
       "      <td>chart</td>\n",
       "      <td><div class=\"artifact\" onclick=\"expandPanel(this)\" paneName=\"result9e27d43d\" title=\"/files/mlrun/chart.html\">chart.html</div></td>\n",
       "      <td><div class=\"ellipsis\" ondblclick=\"copyToClipboard(this)\" title=\"6d4ce3bce5ee3f220a06eba66731190ff54e7f18 (dbl click to copy)\">6d4ce3bce5ee3f220a06eba66731190ff54e7f18</div></td>\n",
       "      <td>chart</td>\n",
       "      <td>Jul 30 21:21:55</td>\n",
       "      <td></td>\n",
       "      <td><div title=\"run/78f817de63ea44fbb4a97b7c4d4e2f38 by yaronh\" class=\"producer\">train</div></td>\n",
       "      <td><div class=\"artifact\" onclick=\"expandPanel(this)\" paneName=\"result9e27d43d\" title=\"/files/mlrun/infile.txt\">infile.txt</div></td>\n",
       "      <td><div class=\"dictlist\">type=roc</div></td>\n",
       "    </tr>\n",
       "    <tr>\n",
       "      <td><div class=\"ellipsis\" ondblclick=\"copyToClipboard(this)\" title=\"latest (dbl click to copy)\">latest</div></td>\n",
       "      <td>chart.html</td>\n",
       "      <td>chart</td>\n",
       "      <td><div class=\"artifact\" onclick=\"expandPanel(this)\" paneName=\"result9e27d43d\" title=\"/files/mlrun/chart.html\">chart.html</div></td>\n",
       "      <td><div class=\"ellipsis\" ondblclick=\"copyToClipboard(this)\" title=\"6d4ce3bce5ee3f220a06eba66731190ff54e7f18 (dbl click to copy)\">6d4ce3bce5ee3f220a06eba66731190ff54e7f18</div></td>\n",
       "      <td>chart</td>\n",
       "      <td>Jul 30 21:21:55</td>\n",
       "      <td></td>\n",
       "      <td><div title=\"run/78f817de63ea44fbb4a97b7c4d4e2f38 by yaronh\" class=\"producer\">train</div></td>\n",
       "      <td><div class=\"artifact\" onclick=\"expandPanel(this)\" paneName=\"result9e27d43d\" title=\"/files/mlrun/infile.txt\">infile.txt</div></td>\n",
       "      <td><div class=\"dictlist\">type=roc</div></td>\n",
       "    </tr>\n",
       "  </tbody>\n",
       "</table>\n",
       "</div></div>\n",
       "  <div id=\"result9e27d43d-pane\" class=\"right-pane block hidden\">\n",
       "    <div class=\"pane-header\">\n",
       "      <span id=\"result9e27d43d-title\" class=\"pane-header-title\">Title</span>\n",
       "      <span onclick=\"closePanel(this)\" paneName=\"result9e27d43d\" class=\"close clickable\">&times;</span>\n",
       "    </div>\n",
       "    <iframe class=\"fileview\" id=\"result9e27d43d-body\"></iframe>\n",
       "  </div>\n",
       "</div>\n"
      ],
      "text/plain": [
       "<IPython.core.display.HTML object>"
      ]
     },
     "metadata": {},
     "output_type": "display_data"
    }
   ],
   "source": [
    "# check different artifact versions \n",
    "db.list_artifacts('ch', tag='*').show()"
   ]
  },
  {
   "cell_type": "code",
   "execution_count": 12,
   "metadata": {},
   "outputs": [],
   "source": [
    "db.del_runs(state='completed')"
   ]
  },
  {
   "cell_type": "code",
   "execution_count": 10,
   "metadata": {},
   "outputs": [],
   "source": [
    "db.del_artifacts(tag='*')"
   ]
  },
  {
   "cell_type": "code",
   "execution_count": 30,
   "metadata": {},
   "outputs": [
    {
     "data": {
      "text/plain": [
       "{'kind': 'dask',\n",
       " 'metadata': {'name': 'dask-tst',\n",
       "  'tag': 'latest',\n",
       "  'hash': '40d3a9cd3294e125327f992d46dcd1a1f0008ea7',\n",
       "  'project': 'default',\n",
       "  'updated': 'Sat, 15 Feb 2020 13:08:46 GMT'},\n",
       " 'spec': {'command': '',\n",
       "  'image': 'daskdev/dask',\n",
       "  'volumes': [],\n",
       "  'volume_mounts': [],\n",
       "  'env': [],\n",
       "  'build': {'image': 'daskdev/dask', 'commands': []},\n",
       "  'description': '',\n",
       "  'replicas': 1,\n",
       "  'image_pull_policy': 'Always',\n",
       "  'remote': True,\n",
       "  'service_type': 'NodePort',\n",
       "  'nthreads': 1,\n",
       "  'min_replicas': 0,\n",
       "  'max_replicas': inf},\n",
       " 'status': {'state': 'ready',\n",
       "  'scheduler_address': 'tcp://mlrun-dask-tst-ad88c4cf-9.default-tenant:8786',\n",
       "  'cluster_name': 'mlrun-dask-tst-ad88c4cf-9',\n",
       "  'node_ports': {'dashboard': 31935, 'scheduler': 32074}}}"
      ]
     },
     "execution_count": 30,
     "metadata": {},
     "output_type": "execute_result"
    }
   ],
   "source": [
    "from mlrun import import_function\n",
    "trainer_fn = import_function('db://dask-tst')\n",
    "trainer_fn.to_dict()"
   ]
  },
  {
   "cell_type": "code",
   "execution_count": null,
   "metadata": {},
   "outputs": [],
   "source": []
  }
 ],
 "metadata": {
  "kernelspec": {
   "display_name": "Python 3",
   "language": "python",
   "name": "python3"
  },
  "language_info": {
   "codemirror_mode": {
    "name": "ipython",
    "version": 3
   },
   "file_extension": ".py",
   "mimetype": "text/x-python",
   "name": "python",
   "nbconvert_exporter": "python",
   "pygments_lexer": "ipython3",
   "version": "3.6.8"
  }
 },
 "nbformat": 4,
 "nbformat_minor": 4
}
