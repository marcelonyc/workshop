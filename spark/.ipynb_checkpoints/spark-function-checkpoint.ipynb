{
 "cells": [
  {
   "cell_type": "code",
   "execution_count": null,
   "metadata": {},
   "outputs": [],
   "source": [
    "# Pyspark example called by mlrun_spark_k8s.ipynb\n",
    "from mlrun import get_or_create_ctx"
   ]
  },
  {
   "cell_type": "code",
   "execution_count": null,
   "metadata": {},
   "outputs": [],
   "source": [
    "# Acquire MLRun context\n",
    "mlctx = get_or_create_ctx('spark-function')"
   ]
  },
  {
   "cell_type": "code",
   "execution_count": null,
   "metadata": {},
   "outputs": [],
   "source": [
    "#Get MLRun parameters\n",
    "mlctx.logger.info('!@!@!@!@!@ Getting env variables')\n",
    "READ_OPTIONS = mlctx.get_param('data_sources')\n",
    "QUERY = mlctx.get_param('query')\n",
    "WRITE_OPTIONS = mlctx.get_param('write_options')\n",
    "\n",
    "from pyspark.sql import SparkSession"
   ]
  },
  {
   "cell_type": "code",
   "execution_count": null,
   "metadata": {},
   "outputs": [],
   "source": [
    "#Create spark session\n",
    "spark = SparkSession.builder \\\n",
    "    .appName('Spark function') \\\n",
    "    .getOrCreate()"
   ]
  },
  {
   "cell_type": "code",
   "execution_count": null,
   "metadata": {},
   "outputs": [],
   "source": [
    "#Loading data from a JDBC source\n",
    "for data_source in READ_OPTIONS:\n",
    "    spark.read.load(**READ_OPTIONS[data_source]).createOrReplaceTempView(data_source)"
   ]
  },
  {
   "cell_type": "code",
   "execution_count": null,
   "metadata": {},
   "outputs": [],
   "source": [
    "#Transform the data using SQL query\n",
    "spark.sql(QUERY).write.save(**WRITE_OPTIONS)"
   ]
  },
  {
   "cell_type": "code",
   "execution_count": null,
   "metadata": {},
   "outputs": [],
   "source": [
    "#write the result datadrame to destination\n",
    "mlctx.logger.info('!@!@!@!@!@ Saved')\n",
    "spark.stop()"
   ]
  }
 ],
 "metadata": {
  "kernelspec": {
   "display_name": "Python 3",
   "language": "python",
   "name": "python3"
  },
  "language_info": {
   "codemirror_mode": {
    "name": "ipython",
    "version": 3
   },
   "file_extension": ".py",
   "mimetype": "text/x-python",
   "name": "python",
   "nbconvert_exporter": "python",
   "pygments_lexer": "ipython3",
   "version": "3.6.8"
  }
 },
 "nbformat": 4,
 "nbformat_minor": 4
}
